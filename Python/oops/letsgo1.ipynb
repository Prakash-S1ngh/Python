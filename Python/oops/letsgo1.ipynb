{
 "cells": [
  {
   "cell_type": "code",
   "execution_count": 10,
   "metadata": {},
   "outputs": [
    {
     "name": "stdout",
     "output_type": "stream",
     "text": [
      "[3 5 7]\n"
     ]
    }
   ],
   "source": [
    "import numpy as np;\n",
    "n1=[1,2,3,4,5,6,7]\n",
    "n2=np.array(n1)\n",
    "print(n2[2:7:2])\n",
    "import pandas\n",
    "import matplotlib"
   ]
  },
  {
   "cell_type": "code",
   "execution_count": 12,
   "metadata": {},
   "outputs": [
    {
     "name": "stdout",
     "output_type": "stream",
     "text": [
      "[13 14 15]\n",
      "[[ 2  3  4  5]\n",
      " [13 14 15 16]]\n"
     ]
    }
   ],
   "source": [
    "arr = np.array([[1,2,3,4,5],[12,13,14,15,16]])\n",
    "print(arr[1,1:4])\n",
    "print(arr[0:2 , 1:6])"
   ]
  },
  {
   "cell_type": "code",
   "execution_count": 15,
   "metadata": {},
   "outputs": [
    {
     "name": "stdout",
     "output_type": "stream",
     "text": [
      "208\n",
      "10\n",
      "8\n"
     ]
    }
   ],
   "source": [
    "import sys \n",
    "arr = np.array([[1,2,3,4,5],[12,13,14,15,16]])\n",
    "print(sys.getsizeof(arr))\n",
    "print(arr.size)\n",
    "print(arr.itemsize)"
   ]
  },
  {
   "cell_type": "code",
   "execution_count": 18,
   "metadata": {},
   "outputs": [
    {
     "name": "stdout",
     "output_type": "stream",
     "text": [
      "[[0 0 0 0]\n",
      " [0 0 0 0]\n",
      " [0 0 0 0]\n",
      " [0 0 0 0]]\n",
      "<numpy.flatiter object at 0x11dfd5600>\n"
     ]
    }
   ],
   "source": [
    "arr = np.empty((4,4),dtype=int)\n",
    "print(arr)\n",
    "print(arr.flat)"
   ]
  },
  {
   "cell_type": "code",
   "execution_count": 22,
   "metadata": {},
   "outputs": [
    {
     "name": "stdout",
     "output_type": "stream",
     "text": [
      "[[0 0 0 0]\n",
      " [0 0 0 0]\n",
      " [0 0 0 0]\n",
      " [0 0 0 0]]\n"
     ]
    },
    {
     "data": {
      "text/plain": [
       "array([[0, 0, 0, 0, 0, 0, 0, 0, 0, 0, 0, 0, 0, 0, 0, 0]])"
      ]
     },
     "execution_count": 22,
     "metadata": {},
     "output_type": "execute_result"
    }
   ],
   "source": [
    "arr = np.empty((4,4),dtype=int)\n",
    "print(arr)\n",
    "arr.reshape(1,16)\n"
   ]
  },
  {
   "cell_type": "code",
   "execution_count": 35,
   "metadata": {},
   "outputs": [
    {
     "name": "stdout",
     "output_type": "stream",
     "text": [
      "[[ 1  2  3  4  5]\n",
      " [10  2  3  4  5]\n",
      " [11  2  3  4  5]\n",
      " [17  2  3  4  5]\n",
      " [18  2  3  4  5]]\n",
      "[[11  2  3  4  5]]\n",
      "[[2 3 4]\n",
      " [2 3 4]]\n"
     ]
    }
   ],
   "source": [
    "arr = np.array([[1,2,3,4,5],[10,2,3,4,5],[11,2,3,4,5],[17,2,3,4,5],[18,2,3,4,5]])\n",
    "print(arr)\n",
    "# print(arr[1:3][1:5])          not allowed \n",
    "print(arr[2:4 , 1:4])"
   ]
  },
  {
   "cell_type": "code",
   "execution_count": null,
   "metadata": {},
   "outputs": [],
   "source": []
  }
 ],
 "metadata": {
  "kernelspec": {
   "display_name": "Python 3",
   "language": "python",
   "name": "python3"
  },
  "language_info": {
   "codemirror_mode": {
    "name": "ipython",
    "version": 3
   },
   "file_extension": ".py",
   "mimetype": "text/x-python",
   "name": "python",
   "nbconvert_exporter": "python",
   "pygments_lexer": "ipython3",
   "version": "3.12.1"
  }
 },
 "nbformat": 4,
 "nbformat_minor": 2
}
